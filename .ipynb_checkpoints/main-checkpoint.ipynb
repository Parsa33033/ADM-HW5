{
 "cells": [
  {
   "cell_type": "markdown",
   "id": "e4cb5403",
   "metadata": {},
   "source": [
    "# ADM - Homework #5"
   ]
  },
  {
   "cell_type": "markdown",
   "id": "5b1efe11",
   "metadata": {},
   "source": [
    "### Dependencies"
   ]
  },
  {
   "cell_type": "code",
   "execution_count": 2,
   "id": "67c4fda6",
   "metadata": {},
   "outputs": [],
   "source": [
    "import numpy as np\n",
    "import pandas as pd"
   ]
  },
  {
   "cell_type": "markdown",
   "id": "2ab4c2ab",
   "metadata": {},
   "source": [
    "## 1. Data"
   ]
  },
  {
   "cell_type": "code",
   "execution_count": null,
   "id": "2f46cbd6",
   "metadata": {},
   "outputs": [],
   "source": []
  },
  {
   "cell_type": "markdown",
   "id": "b72c915b",
   "metadata": {},
   "source": [
    "## 2. Implementation of the backend"
   ]
  },
  {
   "cell_type": "code",
   "execution_count": null,
   "id": "003c9f6a",
   "metadata": {},
   "outputs": [],
   "source": []
  },
  {
   "cell_type": "markdown",
   "id": "9405a457",
   "metadata": {},
   "source": [
    "### Functionality 1 - Get the overall features of the graph"
   ]
  },
  {
   "cell_type": "code",
   "execution_count": null,
   "id": "9c2c8a42",
   "metadata": {},
   "outputs": [],
   "source": []
  },
  {
   "cell_type": "markdown",
   "id": "eb829da4",
   "metadata": {},
   "source": [
    "###  Functionality 2 - Find the best users! "
   ]
  },
  {
   "cell_type": "code",
   "execution_count": null,
   "id": "ffe5e21d",
   "metadata": {},
   "outputs": [],
   "source": []
  },
  {
   "cell_type": "markdown",
   "id": "13761cfe",
   "metadata": {},
   "source": [
    "### Functionality 3 - Shortest Ordered Route "
   ]
  },
  {
   "cell_type": "code",
   "execution_count": null,
   "id": "c41faab9",
   "metadata": {},
   "outputs": [],
   "source": []
  },
  {
   "cell_type": "markdown",
   "id": "858c3fe1",
   "metadata": {},
   "source": [
    "### Functionality 4 - Disconnecting graphs "
   ]
  },
  {
   "cell_type": "code",
   "execution_count": null,
   "id": "885f96ce",
   "metadata": {},
   "outputs": [],
   "source": []
  },
  {
   "cell_type": "markdown",
   "id": "f2e8e0b9",
   "metadata": {},
   "source": [
    "## 3. Implementation of the frontend"
   ]
  },
  {
   "cell_type": "code",
   "execution_count": null,
   "id": "fe3219ba",
   "metadata": {},
   "outputs": [],
   "source": []
  },
  {
   "cell_type": "markdown",
   "id": "91d2e682",
   "metadata": {},
   "source": [
    "### Visualization 1 - Visualize the overall features of the graph "
   ]
  },
  {
   "cell_type": "code",
   "execution_count": null,
   "id": "135c15be",
   "metadata": {},
   "outputs": [],
   "source": []
  },
  {
   "cell_type": "markdown",
   "id": "e5efe4b3",
   "metadata": {},
   "source": [
    "### Visualization 2 - Visualize the best user! "
   ]
  },
  {
   "cell_type": "code",
   "execution_count": null,
   "id": "7666a2bc",
   "metadata": {},
   "outputs": [],
   "source": []
  },
  {
   "cell_type": "markdown",
   "id": "f9bfd1e9",
   "metadata": {},
   "source": [
    "### Visualization 3 - Visualize the Shortest Ordered Route "
   ]
  },
  {
   "cell_type": "code",
   "execution_count": null,
   "id": "9faf412f",
   "metadata": {},
   "outputs": [],
   "source": []
  },
  {
   "cell_type": "markdown",
   "id": "75116865",
   "metadata": {},
   "source": [
    "### Visualization 4 - Visualize disconnecting graphs "
   ]
  },
  {
   "cell_type": "code",
   "execution_count": null,
   "id": "2a886523",
   "metadata": {},
   "outputs": [],
   "source": []
  },
  {
   "cell_type": "markdown",
   "id": "079706b8",
   "metadata": {},
   "source": [
    "## 4. Algorithmic question"
   ]
  },
  {
   "cell_type": "code",
   "execution_count": null,
   "id": "1b84a348",
   "metadata": {},
   "outputs": [],
   "source": []
  }
 ],
 "metadata": {
  "kernelspec": {
   "display_name": "Python 3",
   "language": "python",
   "name": "python3"
  },
  "language_info": {
   "codemirror_mode": {
    "name": "ipython",
    "version": 3
   },
   "file_extension": ".py",
   "mimetype": "text/x-python",
   "name": "python",
   "nbconvert_exporter": "python",
   "pygments_lexer": "ipython3",
   "version": "3.8.8"
  }
 },
 "nbformat": 4,
 "nbformat_minor": 5
}
