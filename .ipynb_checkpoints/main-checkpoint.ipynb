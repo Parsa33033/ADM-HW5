{
 "cells": [
  {
   "cell_type": "markdown",
   "id": "e4cb5403",
   "metadata": {},
   "source": [
    "# ADM - Homework #5"
   ]
  },
  {
   "cell_type": "markdown",
   "id": "5b1efe11",
   "metadata": {},
   "source": [
    "### Dependencies"
   ]
  },
  {
   "cell_type": "code",
   "execution_count": 1,
   "id": "67c4fda6",
   "metadata": {},
   "outputs": [],
   "source": [
    "import numpy as np\n",
    "import pandas as pd\n",
    "from tqdm import tqdm\n",
    "import pickle as pkl\n",
    "from time import time, mktime\n",
    "import traceback\n",
    "import sys\n",
    "import os\n",
    "from collections import OrderedDict\n",
    "import csv\n",
    "import datetime\n",
    "import ast\n",
    "import gc"
   ]
  },
  {
   "cell_type": "markdown",
   "id": "2ab4c2ab",
   "metadata": {},
   "source": [
    "## 1. Data"
   ]
  },
  {
   "cell_type": "markdown",
   "id": "9c5503bb",
   "metadata": {},
   "source": [
    "Fetching the data from text files"
   ]
  },
  {
   "cell_type": "code",
   "execution_count": 2,
   "id": "2910a4bd",
   "metadata": {},
   "outputs": [],
   "source": [
    "class Graph():\n",
    "    a2q = 'a2q'\n",
    "    c2a = 'c2a'\n",
    "    c2q = 'c2q'\n",
    "    u = 'u'\n",
    "    v = 'v'\n",
    "    w = 'w'\n",
    "    g = 'graph'\n",
    "    timestamp = 'timestamp'\n",
    "    _timestamp_csv = 'timestamp.csv'\n",
    "    _a2q_filename = \"sx-stackoverflow-a2q.txt\"\n",
    "    _c2a_filename = \"sx-stackoverflow-c2a.txt\"\n",
    "    _c2q_filename = \"sx-stackoverflow-c2q.txt\"\n",
    "    _my_graph = 'my_graph.pkl'\n",
    "    def __init__(self):\n",
    "        self.timestamp_file = None\n",
    "        self.graph_info = dict()\n",
    "    def _initialize(self, graph):\n",
    "        self.adj_list = dict()\n",
    "        if graph == Graph.a2q:\n",
    "            self.filename = self._a2q_filename\n",
    "            self.pkl = \"a2q.pkl\"\n",
    "        elif graph == Graph.c2a:\n",
    "            self.filename = self._c2a_filename\n",
    "            self.pkl = \"c2a.pkl\"\n",
    "        elif graph == Graph.c2q:\n",
    "            self.filename = self._c2q_filename\n",
    "            self.pkl = \"c2q.pkl\"\n",
    "    def _get_graph_from_text(self):\n",
    "        with open(self.filename, 'r') as file:\n",
    "            graph_list = file.readlines()\n",
    "            for i in tqdm(graph_list):\n",
    "                l = list(map(int,i.split()))\n",
    "                u, v, t = l[0], l[1], l[2]\n",
    "                if v not in self.adj_list:\n",
    "                    self.adj_list[v] = []\n",
    "                if u in self.adj_list:\n",
    "                    self.adj_list[u].append([v,t])\n",
    "                else:\n",
    "                    self.adj_list[u] = []\n",
    "                    self.adj_list[u].append([v,t])\n",
    "        self._dump_graph()\n",
    "    def _dump_graph(self):\n",
    "        with open(self.pkl, 'wb') as pkl_file:\n",
    "            pkl.dump(self.adj_list, pkl_file)\n",
    "    def get_graph(self, graph):\n",
    "        t1 = time()\n",
    "        self.graph = graph\n",
    "        print(\"Starting to fetch {} graph adjacency list...\".format(graph))\n",
    "        self._initialize(graph)\n",
    "        if not self.adj_list:\n",
    "            try:\n",
    "                with open(self.pkl, 'rb') as pkl_file:\n",
    "                    self.adj_list = pkl.load(pkl_file)        \n",
    "            except:\n",
    "                self._get_graph_from_text()\n",
    "        print(\"Fetched {} graph in {:.2f} seconds\".format(self.graph, time() - t1))\n",
    "        return self.adj_list\n",
    "    def releave_graph(self):\n",
    "        del self.adj_list\n",
    "        gc.collect()\n",
    "    def create_graph(self, timespan):\n",
    "        r = self.timestamp_file.readlines()\n",
    "        self.my_graph = dict()\n",
    "        t1, t2 = timespan\n",
    "        flag = True\n",
    "        print(\"Creating graph!\")\n",
    "        for i in tqdm(r):\n",
    "            if flag:\n",
    "                flag = False\n",
    "                continue\n",
    "            l = i.split(\",\")\n",
    "            t, u, v, w = int(l[0]), int(l[1]), int(l[2]), float(l[3])\n",
    "            if t1 <= t <= t2:\n",
    "                if v not in self.my_graph.keys():\n",
    "                    self.my_graph[v] = []\n",
    "                if u in self.my_graph.keys():\n",
    "                    self.my_graph[u].append([v,w])\n",
    "                else:\n",
    "                    self.my_graph[u] = []\n",
    "                    self.my_graph[u].append([v,w])\n",
    "        with open(self._my_graph, 'wb') as file:\n",
    "            pkl.dump(self.my_graph, file)\n",
    "    def get_timestamp(self,timespan):\n",
    "        self.timestamp_file = open(self._timestamp_csv, 'r')\n",
    "        self.create_graph(timespan)\n",
    "    def get_timestamp_span(self, graphs, timespan):\n",
    "        d1, d2 = timespan[0], timespan[1]\n",
    "        t1 = int(mktime(datetime.datetime.strptime(d1, \"%d/%m/%Y\").timetuple()))\n",
    "        t2 = int(mktime(datetime.datetime.strptime(d2, \"%d/%m/%Y\").timetuple()))\n",
    "        timespan = (t1, t2)\n",
    "        if os.path.isfile(self._timestamp_csv):\n",
    "            t1 = time()\n",
    "            print(\"Fetching {}...\".format(self._timestamp_csv))\n",
    "            self.get_timestamp(timespan)\n",
    "            print(\"Fetched in {:.2f} seconds.\".format(time()-t1))\n",
    "        else:\n",
    "            timestamp_dict = dict()\n",
    "            with open(self._timestamp_csv, 'w', newline='') as timestamp_file:\n",
    "                writer = csv.writer(timestamp_file)\n",
    "                writer.writerow([self.timestamp, self.u, self.v, self.w, self.g])\n",
    "                for graph in graphs:\n",
    "                    if graph == self.a2q:\n",
    "                        w = np.e**3\n",
    "                        filename = self._a2q_filename\n",
    "                    elif graph == self.c2q:\n",
    "                        w = np.e**2\n",
    "                        filename = self._c2q_filename\n",
    "                    elif graph == self.c2a:\n",
    "                        w = np.e\n",
    "                        filename = self._c2a_filename\n",
    "                    print(\"Converting graph {} to timestamp dictionary with w={} ...\".format(graph, str(w)) )\n",
    "                    with open(filename, 'r') as file:\n",
    "                        graph_list = file.readlines()\n",
    "                        for i in tqdm(graph_list):\n",
    "                            l = list(map(int,i.split()))\n",
    "                            u, v, t = l[0], l[1], l[2]\n",
    "                            writer.writerow([t,u,v,w,graph])\n",
    "                        del graph_list\n",
    "                        gc.collect()\n",
    "            print(\"Done!!!\")\n",
    "            gc.collect()\n",
    "            self.get_timestamp(timespan)"
   ]
  },
  {
   "cell_type": "code",
   "execution_count": 3,
   "id": "b0bbb02a",
   "metadata": {},
   "outputs": [],
   "source": [
    "g = Graph()\n",
    "list_of_graphs = [Graph.a2q, Graph.c2q, Graph.c2a]"
   ]
  },
  {
   "cell_type": "code",
   "execution_count": null,
   "id": "2f9d9a29",
   "metadata": {},
   "outputs": [],
   "source": [
    "g.get_timestamp_span(list_of_graphs , [\"01/12/2011\",\"10/12/2011\"])"
   ]
  },
  {
   "cell_type": "code",
   "execution_count": 6,
   "id": "7e345df4",
   "metadata": {},
   "outputs": [
    {
     "name": "stdout",
     "output_type": "stream",
     "text": [
      "37387\n"
     ]
    }
   ],
   "source": [
    "print(len(g.my_graph.keys()))"
   ]
  },
  {
   "cell_type": "markdown",
   "id": "b72c915b",
   "metadata": {},
   "source": [
    "## 2. Implementation of the backend"
   ]
  },
  {
   "cell_type": "code",
   "execution_count": null,
   "id": "003c9f6a",
   "metadata": {},
   "outputs": [],
   "source": []
  },
  {
   "cell_type": "markdown",
   "id": "9405a457",
   "metadata": {},
   "source": [
    "### Functionality 1 - Get the overall features of the graph"
   ]
  },
  {
   "cell_type": "code",
   "execution_count": 4,
   "id": "9367d0b1",
   "metadata": {},
   "outputs": [],
   "source": [
    "def func1(graph: Graph, graph_name: str, threshold = 0.2):\n",
    "    \"\"\"\n",
    "    test_function does blah blah blah.\n",
    "    \n",
    "    :param graph: instantialized Graph object\n",
    "    :param graph_name: name of the graph among Graph.a2q, Graph.c2q, and Graph c2a\n",
    "    :param threshold: threshold of the sparseness of the graph (must be lower than 0.5)\n",
    "    :return: a list -> [Whether the graph is directed or not, Number of users, Number of answers/comments,\n",
    "                Average number of links per user, Density degree of the graph,\n",
    "                Whether the graph is sparse, Whether the graph is dense]\n",
    "    \"\"\" \n",
    "    graph.get_graph(graph_name)\n",
    "    is_directed = False;\n",
    "    keys = graph.adj_list.keys()\n",
    "    vertex_num = len(keys)\n",
    "    degree = 0\n",
    "    links_per_users_num = 0\n",
    "    density_degree = 0\n",
    "    is_sparse = 0\n",
    "    is_dense = 0\n",
    "    for key in tqdm(keys):\n",
    "        val = graph.adj_list[key]\n",
    "        if len(val)>=1:\n",
    "            val = np.array(val)[:,0]\n",
    "            degree += len(val)\n",
    "            if not is_directed:\n",
    "                for v in val:\n",
    "                    if v in graph.adj_list.keys():\n",
    "                        val_v = graph.adj_list[v]\n",
    "                        if len(val_v)>=1:\n",
    "                            val_v = set(np.array(graph.adj_list[v])[:,0].flatten())\n",
    "                            if key in val_v:\n",
    "                                continue;\n",
    "                            else:\n",
    "                                is_directed = True\n",
    "                                break\n",
    "    links_per_users_num = degree / vertex_num\n",
    "    clique_num = (vertex_num * (vertex_num - 1)) / 2\n",
    "    density_degree = (degree // 2) / clique_num\n",
    "    if density_degree >= (1-threshold) * clique_num:\n",
    "        is_dense = 1\n",
    "    elif density_degree <= threshold * clique_num:\n",
    "        is_sparse = 1\n",
    "    graph.releave_graph()\n",
    "    return [is_directed, vertex_num, degree, links_per_users_num, density_degree, is_sparse, is_dense]"
   ]
  },
  {
   "cell_type": "code",
   "execution_count": null,
   "id": "e7f5676d",
   "metadata": {},
   "outputs": [],
   "source": [
    "print(func1(g, Graph.a2q))"
   ]
  },
  {
   "cell_type": "markdown",
   "id": "eb829da4",
   "metadata": {},
   "source": [
    "###  Functionality 2 - Find the best users! "
   ]
  },
  {
   "cell_type": "code",
   "execution_count": 146,
   "id": "7306e52b",
   "metadata": {},
   "outputs": [],
   "source": [
    "def dijkstra(graph: dict, u: int):\n",
    "    dist = dict()\n",
    "    current_node = u\n",
    "    unvisited = set()\n",
    "    visited = set()\n",
    "    while True:\n",
    "        val = graph[current_node]\n",
    "        v = np.array(val)[:,0]\n",
    "        w = np.array(val)[:,1]\n",
    "        unvisited.update(v)\n",
    "        dist.update(dict(zip(v,w)))\n",
    "    print(dist)\n",
    "                \n",
    "            \n",
    "                        \n",
    "        \n",
    "        "
   ]
  },
  {
   "cell_type": "code",
   "execution_count": 147,
   "id": "ffe5e21d",
   "metadata": {},
   "outputs": [],
   "source": [
    "class Metric():\n",
    "    betweenness = \"Betweenness\"\n",
    "    pagerank = \"PageRank\"\n",
    "    closeness_cent = \"ClosenessCentrality\"\n",
    "    degree_cent = \"DegreeCentrality\"\n",
    "    def compute_betweeness(self, graph: dict):\n",
    "        self.sp = dict()\n",
    "        for key in graph.keys():\n",
    "            val = graph[key]\n",
    "            dijkstra(graph, key)\n",
    "            break\n",
    "    def compute_page_rank(self, graph: dict):\n",
    "        self.pr = dict()\n",
    "        keys = graph.keys()\n",
    "        n = len(keys)\n",
    "        r_default = 1/n\n",
    "        for key in tqdm(keys):\n",
    "            val = graph[key]\n",
    "            if len(val) >= 1:\n",
    "                val = np.array(val)[:,0]\n",
    "                out_degree = len(val)\n",
    "                if key not in self.pr.keys():\n",
    "                    self.pr[key] = [r_default, out_degree, []]\n",
    "                for v in val:\n",
    "                    if v in self.pr.keys():\n",
    "                        self.pr[v][2].append(key)\n",
    "                    else:\n",
    "                        out_degree_v = len(graph[v])\n",
    "                        self.pr[v] = [r_default, out_degree_v, [key]]     \n",
    "        epsilon = 0.000000001\n",
    "        beta = 0.2\n",
    "        while True:\n",
    "            d = dict()\n",
    "            for vertex in self.pr.keys():\n",
    "                u = self.pr[vertex]\n",
    "                r_prev = u[0]\n",
    "                in_degrees = u[2]\n",
    "                r = 0\n",
    "                for v in in_degrees:\n",
    "                    r += beta * (self.pr[v][0]/self.pr[v][1])\n",
    "                r += (1 - beta)/n\n",
    "                self.pr[vertex][0] = r\n",
    "                cond = abs(r - r_prev)\n",
    "                d[vertex] = cond\n",
    "                if cond <= epsilon:\n",
    "                    break\n",
    "            a = np.array(list(d.values()))\n",
    "            if len(a[a > epsilon]) == 0:\n",
    "                break;\n"
   ]
  },
  {
   "cell_type": "code",
   "execution_count": 148,
   "id": "38296929",
   "metadata": {},
   "outputs": [],
   "source": [
    "def func2(graph: dict, metric: Metric, node: int, metric_type):\n",
    "    if metric_type == Metric.pagerank:\n",
    "        metric.compute_page_rank(graph)\n",
    "        return metric.pr[node][0]\n",
    "    elif metric_type == Metric.betweenness:\n",
    "        metric.compute_betweeness(graph)"
   ]
  },
  {
   "cell_type": "code",
   "execution_count": 149,
   "id": "999e2015",
   "metadata": {},
   "outputs": [],
   "source": [
    "metric = Metric()"
   ]
  },
  {
   "cell_type": "code",
   "execution_count": null,
   "id": "69b1bcc7",
   "metadata": {},
   "outputs": [],
   "source": [
    "g.get_timestamp_span(list_of_graphs , [\"01/12/2011\",\"05/12/2011\"])"
   ]
  },
  {
   "cell_type": "code",
   "execution_count": null,
   "id": "fd797c3e",
   "metadata": {},
   "outputs": [],
   "source": [
    "func2(g.my_graph, metric, 1040563, Metric.pagerank)"
   ]
  },
  {
   "cell_type": "code",
   "execution_count": null,
   "id": "6c7c8c9a",
   "metadata": {},
   "outputs": [],
   "source": [
    "func2(g.my_graph, metric, 1040563, Metric.betweenness)"
   ]
  },
  {
   "cell_type": "markdown",
   "id": "13761cfe",
   "metadata": {},
   "source": [
    "### Functionality 3 - Shortest Ordered Route "
   ]
  },
  {
   "cell_type": "code",
   "execution_count": null,
   "id": "c41faab9",
   "metadata": {},
   "outputs": [],
   "source": []
  },
  {
   "cell_type": "markdown",
   "id": "858c3fe1",
   "metadata": {},
   "source": [
    "### Functionality 4 - Disconnecting graphs "
   ]
  },
  {
   "cell_type": "code",
   "execution_count": null,
   "id": "885f96ce",
   "metadata": {},
   "outputs": [],
   "source": []
  },
  {
   "cell_type": "markdown",
   "id": "f2e8e0b9",
   "metadata": {},
   "source": [
    "## 3. Implementation of the frontend"
   ]
  },
  {
   "cell_type": "code",
   "execution_count": null,
   "id": "fe3219ba",
   "metadata": {},
   "outputs": [],
   "source": []
  },
  {
   "cell_type": "markdown",
   "id": "91d2e682",
   "metadata": {},
   "source": [
    "### Visualization 1 - Visualize the overall features of the graph "
   ]
  },
  {
   "cell_type": "code",
   "execution_count": null,
   "id": "135c15be",
   "metadata": {},
   "outputs": [],
   "source": []
  },
  {
   "cell_type": "markdown",
   "id": "e5efe4b3",
   "metadata": {},
   "source": [
    "### Visualization 2 - Visualize the best user! "
   ]
  },
  {
   "cell_type": "code",
   "execution_count": null,
   "id": "7666a2bc",
   "metadata": {},
   "outputs": [],
   "source": []
  },
  {
   "cell_type": "markdown",
   "id": "f9bfd1e9",
   "metadata": {},
   "source": [
    "### Visualization 3 - Visualize the Shortest Ordered Route "
   ]
  },
  {
   "cell_type": "code",
   "execution_count": null,
   "id": "9faf412f",
   "metadata": {},
   "outputs": [],
   "source": []
  },
  {
   "cell_type": "markdown",
   "id": "75116865",
   "metadata": {},
   "source": [
    "### Visualization 4 - Visualize disconnecting graphs "
   ]
  },
  {
   "cell_type": "code",
   "execution_count": null,
   "id": "2a886523",
   "metadata": {},
   "outputs": [],
   "source": []
  },
  {
   "cell_type": "markdown",
   "id": "079706b8",
   "metadata": {},
   "source": [
    "## 4. Algorithmic question"
   ]
  },
  {
   "cell_type": "code",
   "execution_count": null,
   "id": "1b84a348",
   "metadata": {},
   "outputs": [],
   "source": []
  }
 ],
 "metadata": {
  "kernelspec": {
   "display_name": "Python 3",
   "language": "python",
   "name": "python3"
  },
  "language_info": {
   "codemirror_mode": {
    "name": "ipython",
    "version": 3
   },
   "file_extension": ".py",
   "mimetype": "text/x-python",
   "name": "python",
   "nbconvert_exporter": "python",
   "pygments_lexer": "ipython3",
   "version": "3.8.8"
  }
 },
 "nbformat": 4,
 "nbformat_minor": 5
}
